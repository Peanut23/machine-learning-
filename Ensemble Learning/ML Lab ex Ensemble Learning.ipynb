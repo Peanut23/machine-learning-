{
 "cells": [
  {
   "cell_type": "markdown",
   "metadata": {},
   "source": [
    "## CDS503 Lab Exercise: Ensemble Learning\n",
    "Ling Hui Ting (P-COM0086/19)"
   ]
  },
  {
   "cell_type": "code",
   "execution_count": 1,
   "metadata": {},
   "outputs": [],
   "source": [
    "# Import the standard modules to be used in this lab\n",
    "import pandas as pd\n",
    "import numpy as np\n",
    "import seaborn as sns\n",
    "import matplotlib.pyplot as plt"
   ]
  },
  {
   "cell_type": "code",
   "execution_count": 2,
   "metadata": {},
   "outputs": [],
   "source": [
    "df=pd.read_csv('D:/MACHINE LEARNING/input/Data_Cortex_Nuclear.csv')"
   ]
  },
  {
   "cell_type": "code",
   "execution_count": 3,
   "metadata": {},
   "outputs": [
    {
     "name": "stdout",
     "output_type": "stream",
     "text": [
      "<class 'pandas.core.frame.DataFrame'>\n",
      "RangeIndex: 1080 entries, 0 to 1079\n",
      "Data columns (total 82 columns):\n",
      "MouseID            1080 non-null object\n",
      "DYRK1A_N           1077 non-null float64\n",
      "ITSN1_N            1077 non-null float64\n",
      "BDNF_N             1077 non-null float64\n",
      "NR1_N              1077 non-null float64\n",
      "NR2A_N             1077 non-null float64\n",
      "pAKT_N             1077 non-null float64\n",
      "pBRAF_N            1077 non-null float64\n",
      "pCAMKII_N          1077 non-null float64\n",
      "pCREB_N            1077 non-null float64\n",
      "pELK_N             1077 non-null float64\n",
      "pERK_N             1077 non-null float64\n",
      "pJNK_N             1077 non-null float64\n",
      "PKCA_N             1077 non-null float64\n",
      "pMEK_N             1077 non-null float64\n",
      "pNR1_N             1077 non-null float64\n",
      "pNR2A_N            1077 non-null float64\n",
      "pNR2B_N            1077 non-null float64\n",
      "pPKCAB_N           1077 non-null float64\n",
      "pRSK_N             1077 non-null float64\n",
      "AKT_N              1077 non-null float64\n",
      "BRAF_N             1077 non-null float64\n",
      "CAMKII_N           1077 non-null float64\n",
      "CREB_N             1077 non-null float64\n",
      "ELK_N              1062 non-null float64\n",
      "ERK_N              1077 non-null float64\n",
      "GSK3B_N            1077 non-null float64\n",
      "JNK_N              1077 non-null float64\n",
      "MEK_N              1073 non-null float64\n",
      "TRKA_N             1077 non-null float64\n",
      "RSK_N              1077 non-null float64\n",
      "APP_N              1077 non-null float64\n",
      "Bcatenin_N         1062 non-null float64\n",
      "SOD1_N             1077 non-null float64\n",
      "MTOR_N             1077 non-null float64\n",
      "P38_N              1077 non-null float64\n",
      "pMTOR_N            1077 non-null float64\n",
      "DSCR1_N            1077 non-null float64\n",
      "AMPKA_N            1077 non-null float64\n",
      "NR2B_N             1077 non-null float64\n",
      "pNUMB_N            1077 non-null float64\n",
      "RAPTOR_N           1077 non-null float64\n",
      "TIAM1_N            1077 non-null float64\n",
      "pP70S6_N           1077 non-null float64\n",
      "NUMB_N             1080 non-null float64\n",
      "P70S6_N            1080 non-null float64\n",
      "pGSK3B_N           1080 non-null float64\n",
      "pPKCG_N            1080 non-null float64\n",
      "CDK5_N             1080 non-null float64\n",
      "S6_N               1080 non-null float64\n",
      "ADARB1_N           1080 non-null float64\n",
      "AcetylH3K9_N       1080 non-null float64\n",
      "RRP1_N             1080 non-null float64\n",
      "BAX_N              1080 non-null float64\n",
      "ARC_N              1080 non-null float64\n",
      "ERBB4_N            1080 non-null float64\n",
      "nNOS_N             1080 non-null float64\n",
      "Tau_N              1080 non-null float64\n",
      "GFAP_N             1080 non-null float64\n",
      "GluR3_N            1080 non-null float64\n",
      "GluR4_N            1080 non-null float64\n",
      "IL1B_N             1080 non-null float64\n",
      "P3525_N            1080 non-null float64\n",
      "pCASP9_N           1080 non-null float64\n",
      "PSD95_N            1080 non-null float64\n",
      "SNCA_N             1080 non-null float64\n",
      "Ubiquitin_N        1080 non-null float64\n",
      "pGSK3B_Tyr216_N    1080 non-null float64\n",
      "SHH_N              1080 non-null float64\n",
      "BAD_N              867 non-null float64\n",
      "BCL2_N             795 non-null float64\n",
      "pS6_N              1080 non-null float64\n",
      "pCFOS_N            1005 non-null float64\n",
      "SYP_N              1080 non-null float64\n",
      "H3AcK18_N          900 non-null float64\n",
      "EGR1_N             870 non-null float64\n",
      "H3MeK4_N           810 non-null float64\n",
      "CaNA_N             1080 non-null float64\n",
      "Genotype           1080 non-null object\n",
      "Treatment          1080 non-null object\n",
      "Behavior           1080 non-null object\n",
      "class              1080 non-null object\n",
      "dtypes: float64(77), object(5)\n",
      "memory usage: 692.0+ KB\n"
     ]
    }
   ],
   "source": [
    "df.info()"
   ]
  },
  {
   "cell_type": "code",
   "execution_count": 4,
   "metadata": {},
   "outputs": [],
   "source": [
    "df=df.dropna(axis=0,how='any')"
   ]
  },
  {
   "cell_type": "code",
   "execution_count": 5,
   "metadata": {},
   "outputs": [
    {
     "name": "stdout",
     "output_type": "stream",
     "text": [
      "<class 'pandas.core.frame.DataFrame'>\n",
      "Int64Index: 552 entries, 75 to 1049\n",
      "Data columns (total 82 columns):\n",
      "MouseID            552 non-null object\n",
      "DYRK1A_N           552 non-null float64\n",
      "ITSN1_N            552 non-null float64\n",
      "BDNF_N             552 non-null float64\n",
      "NR1_N              552 non-null float64\n",
      "NR2A_N             552 non-null float64\n",
      "pAKT_N             552 non-null float64\n",
      "pBRAF_N            552 non-null float64\n",
      "pCAMKII_N          552 non-null float64\n",
      "pCREB_N            552 non-null float64\n",
      "pELK_N             552 non-null float64\n",
      "pERK_N             552 non-null float64\n",
      "pJNK_N             552 non-null float64\n",
      "PKCA_N             552 non-null float64\n",
      "pMEK_N             552 non-null float64\n",
      "pNR1_N             552 non-null float64\n",
      "pNR2A_N            552 non-null float64\n",
      "pNR2B_N            552 non-null float64\n",
      "pPKCAB_N           552 non-null float64\n",
      "pRSK_N             552 non-null float64\n",
      "AKT_N              552 non-null float64\n",
      "BRAF_N             552 non-null float64\n",
      "CAMKII_N           552 non-null float64\n",
      "CREB_N             552 non-null float64\n",
      "ELK_N              552 non-null float64\n",
      "ERK_N              552 non-null float64\n",
      "GSK3B_N            552 non-null float64\n",
      "JNK_N              552 non-null float64\n",
      "MEK_N              552 non-null float64\n",
      "TRKA_N             552 non-null float64\n",
      "RSK_N              552 non-null float64\n",
      "APP_N              552 non-null float64\n",
      "Bcatenin_N         552 non-null float64\n",
      "SOD1_N             552 non-null float64\n",
      "MTOR_N             552 non-null float64\n",
      "P38_N              552 non-null float64\n",
      "pMTOR_N            552 non-null float64\n",
      "DSCR1_N            552 non-null float64\n",
      "AMPKA_N            552 non-null float64\n",
      "NR2B_N             552 non-null float64\n",
      "pNUMB_N            552 non-null float64\n",
      "RAPTOR_N           552 non-null float64\n",
      "TIAM1_N            552 non-null float64\n",
      "pP70S6_N           552 non-null float64\n",
      "NUMB_N             552 non-null float64\n",
      "P70S6_N            552 non-null float64\n",
      "pGSK3B_N           552 non-null float64\n",
      "pPKCG_N            552 non-null float64\n",
      "CDK5_N             552 non-null float64\n",
      "S6_N               552 non-null float64\n",
      "ADARB1_N           552 non-null float64\n",
      "AcetylH3K9_N       552 non-null float64\n",
      "RRP1_N             552 non-null float64\n",
      "BAX_N              552 non-null float64\n",
      "ARC_N              552 non-null float64\n",
      "ERBB4_N            552 non-null float64\n",
      "nNOS_N             552 non-null float64\n",
      "Tau_N              552 non-null float64\n",
      "GFAP_N             552 non-null float64\n",
      "GluR3_N            552 non-null float64\n",
      "GluR4_N            552 non-null float64\n",
      "IL1B_N             552 non-null float64\n",
      "P3525_N            552 non-null float64\n",
      "pCASP9_N           552 non-null float64\n",
      "PSD95_N            552 non-null float64\n",
      "SNCA_N             552 non-null float64\n",
      "Ubiquitin_N        552 non-null float64\n",
      "pGSK3B_Tyr216_N    552 non-null float64\n",
      "SHH_N              552 non-null float64\n",
      "BAD_N              552 non-null float64\n",
      "BCL2_N             552 non-null float64\n",
      "pS6_N              552 non-null float64\n",
      "pCFOS_N            552 non-null float64\n",
      "SYP_N              552 non-null float64\n",
      "H3AcK18_N          552 non-null float64\n",
      "EGR1_N             552 non-null float64\n",
      "H3MeK4_N           552 non-null float64\n",
      "CaNA_N             552 non-null float64\n",
      "Genotype           552 non-null object\n",
      "Treatment          552 non-null object\n",
      "Behavior           552 non-null object\n",
      "class              552 non-null object\n",
      "dtypes: float64(77), object(5)\n",
      "memory usage: 357.9+ KB\n"
     ]
    }
   ],
   "source": [
    "df.info()"
   ]
  },
  {
   "cell_type": "code",
   "execution_count": 6,
   "metadata": {},
   "outputs": [],
   "source": [
    "from sklearn.preprocessing import LabelEncoder\n",
    "labelencoder=LabelEncoder()\n",
    "df['MouseID']=labelencoder.fit_transform(df['MouseID'])\n",
    "df['Genotype']=labelencoder.fit_transform(df['Genotype'])\n",
    "df['Treatment']=labelencoder.fit_transform(df['Treatment'])\n",
    "df['Behavior']=labelencoder.fit_transform(df['Behavior'])\n",
    "df['class']=labelencoder.fit_transform(df['class'])"
   ]
  },
  {
   "cell_type": "code",
   "execution_count": 7,
   "metadata": {},
   "outputs": [],
   "source": [
    "from sklearn.preprocessing import MinMaxScaler\n",
    "scaler = MinMaxScaler(feature_range=(0,1))\n",
    "normData = scaler.fit_transform(df.astype(float))"
   ]
  },
  {
   "cell_type": "code",
   "execution_count": 8,
   "metadata": {},
   "outputs": [],
   "source": [
    "x=df.drop('class',axis=1)\n",
    "y=df['class']"
   ]
  },
  {
   "cell_type": "code",
   "execution_count": 9,
   "metadata": {},
   "outputs": [],
   "source": [
    "from sklearn.model_selection import train_test_split\n",
    "x_train, x_test, y_train, y_test = train_test_split(x,y)"
   ]
  },
  {
   "cell_type": "markdown",
   "metadata": {},
   "source": [
    "## Voting Classifier"
   ]
  },
  {
   "cell_type": "code",
   "execution_count": 10,
   "metadata": {},
   "outputs": [],
   "source": [
    "from sklearn.tree import DecisionTreeClassifier\n",
    "from sklearn.naive_bayes import GaussianNB\n",
    "from sklearn.neighbors import KNeighborsClassifier\n",
    "from sklearn.ensemble import VotingClassifier\n",
    "dt = DecisionTreeClassifier(criterion='gini', max_depth=5)\n",
    "gnb = GaussianNB()\n",
    "knn = KNeighborsClassifier(n_neighbors=7)\n",
    "classifiers = []\n",
    "classifiers.append(('clf1', dt))\n",
    "classifiers.append(('clf2', gnb))\n",
    "classifiers.append(('clf3', knn))\n",
    "ensemble = VotingClassifier(classifiers, voting='hard')\n",
    "ensemble.fit(x_train, y_train)\n",
    "y_pred_vot = ensemble.predict(x_test)"
   ]
  },
  {
   "cell_type": "code",
   "execution_count": 11,
   "metadata": {},
   "outputs": [],
   "source": [
    "dtc = DecisionTreeClassifier(criterion='gini', max_depth=5)\n",
    "dtc.fit(x_train, y_train)\n",
    "y_pred_dtc = dtc.predict(x_test)"
   ]
  },
  {
   "cell_type": "code",
   "execution_count": 12,
   "metadata": {},
   "outputs": [
    {
     "name": "stdout",
     "output_type": "stream",
     "text": [
      "[[ 8  0  0  0  0  0  0  0]\n",
      " [ 0 17  0  0  0  0  0  0]\n",
      " [ 0  0 11  0  0  0  0  0]\n",
      " [ 0  0  0 25  0  0  0  0]\n",
      " [ 0  0  0  0 18  0  0  0]\n",
      " [ 0  0  0  0  0 23  0  0]\n",
      " [ 0  0  0  0  0  0 19  0]\n",
      " [ 0  0  0  0  0  0  0 17]]\n",
      "              precision    recall  f1-score   support\n",
      "\n",
      "           0       1.00      1.00      1.00         8\n",
      "           1       1.00      1.00      1.00        17\n",
      "           2       1.00      1.00      1.00        11\n",
      "           3       1.00      1.00      1.00        25\n",
      "           4       1.00      1.00      1.00        18\n",
      "           5       1.00      1.00      1.00        23\n",
      "           6       1.00      1.00      1.00        19\n",
      "           7       1.00      1.00      1.00        17\n",
      "\n",
      "    accuracy                           1.00       138\n",
      "   macro avg       1.00      1.00      1.00       138\n",
      "weighted avg       1.00      1.00      1.00       138\n",
      "\n"
     ]
    }
   ],
   "source": [
    "from sklearn.metrics import classification_report\n",
    "from sklearn.metrics import confusion_matrix\n",
    "print(confusion_matrix(y_test, y_pred_vot))\n",
    "print(classification_report(y_test, y_pred_vot))"
   ]
  },
  {
   "cell_type": "code",
   "execution_count": 13,
   "metadata": {},
   "outputs": [
    {
     "name": "stdout",
     "output_type": "stream",
     "text": [
      "[[ 8  0  0  0  0  0  0  0]\n",
      " [ 0 17  0  0  0  0  0  0]\n",
      " [ 0  0 11  0  0  0  0  0]\n",
      " [ 0  0  0 25  0  0  0  0]\n",
      " [ 0  0  0  0 18  0  0  0]\n",
      " [ 0  0  0  0  0 23  0  0]\n",
      " [ 0  0  0  0  0  0 19  0]\n",
      " [ 0  0  0  0  0  0  0 17]]\n",
      "              precision    recall  f1-score   support\n",
      "\n",
      "           0       1.00      1.00      1.00         8\n",
      "           1       1.00      1.00      1.00        17\n",
      "           2       1.00      1.00      1.00        11\n",
      "           3       1.00      1.00      1.00        25\n",
      "           4       1.00      1.00      1.00        18\n",
      "           5       1.00      1.00      1.00        23\n",
      "           6       1.00      1.00      1.00        19\n",
      "           7       1.00      1.00      1.00        17\n",
      "\n",
      "    accuracy                           1.00       138\n",
      "   macro avg       1.00      1.00      1.00       138\n",
      "weighted avg       1.00      1.00      1.00       138\n",
      "\n"
     ]
    }
   ],
   "source": [
    "print(confusion_matrix(y_test, y_pred_dtc))\n",
    "print(classification_report(y_test, y_pred_dtc))"
   ]
  },
  {
   "cell_type": "markdown",
   "metadata": {},
   "source": [
    "## Bagging Classifier"
   ]
  },
  {
   "cell_type": "code",
   "execution_count": 14,
   "metadata": {},
   "outputs": [],
   "source": [
    "from sklearn.ensemble import BaggingClassifier\n",
    "num_classifiers = 500\n",
    "max_samples = len(x_train)\n",
    "base_clf = DecisionTreeClassifier(criterion='gini', max_depth=5)\n",
    "bag_clf = BaggingClassifier(base_estimator=base_clf,n_estimators=num_classifiers,max_samples=max_samples,bootstrap=True,random_state=1)\n",
    "bag_clf.fit(x_train, y_train)\n",
    "y_pred_bag = bag_clf.predict(x_test)"
   ]
  },
  {
   "cell_type": "code",
   "execution_count": 15,
   "metadata": {},
   "outputs": [
    {
     "name": "stdout",
     "output_type": "stream",
     "text": [
      "[[ 8  0  0  0  0  0  0  0]\n",
      " [ 0 17  0  0  0  0  0  0]\n",
      " [ 0  0 11  0  0  0  0  0]\n",
      " [ 0  0  0 25  0  0  0  0]\n",
      " [ 0  0  0  0 18  0  0  0]\n",
      " [ 0  0  0  0  0 23  0  0]\n",
      " [ 0  0  0  0  0  0 19  0]\n",
      " [ 0  0  0  0  0  0  0 17]]\n",
      "              precision    recall  f1-score   support\n",
      "\n",
      "           0       1.00      1.00      1.00         8\n",
      "           1       1.00      1.00      1.00        17\n",
      "           2       1.00      1.00      1.00        11\n",
      "           3       1.00      1.00      1.00        25\n",
      "           4       1.00      1.00      1.00        18\n",
      "           5       1.00      1.00      1.00        23\n",
      "           6       1.00      1.00      1.00        19\n",
      "           7       1.00      1.00      1.00        17\n",
      "\n",
      "    accuracy                           1.00       138\n",
      "   macro avg       1.00      1.00      1.00       138\n",
      "weighted avg       1.00      1.00      1.00       138\n",
      "\n"
     ]
    }
   ],
   "source": [
    "print(confusion_matrix(y_test, y_pred_bag))\n",
    "print(classification_report(y_test, y_pred_bag))"
   ]
  },
  {
   "cell_type": "markdown",
   "metadata": {},
   "source": [
    "## AdaBoost Classifier"
   ]
  },
  {
   "cell_type": "code",
   "execution_count": 16,
   "metadata": {},
   "outputs": [],
   "source": [
    "from sklearn.ensemble import AdaBoostClassifier\n",
    "num_classifiers = 500\n",
    "learning_rate = 0.07\n",
    "ada_clf = AdaBoostClassifier(base_estimator=base_clf,\n",
    "n_estimators=num_classifiers,\n",
    "learning_rate=learning_rate)\n",
    "ada_clf.fit(x_train, y_train)\n",
    "y_pred_ada = ada_clf.predict(x_test)"
   ]
  },
  {
   "cell_type": "code",
   "execution_count": 17,
   "metadata": {},
   "outputs": [
    {
     "name": "stdout",
     "output_type": "stream",
     "text": [
      "[[ 8  0  0  0  0  0  0  0]\n",
      " [ 0 17  0  0  0  0  0  0]\n",
      " [ 0  0 11  0  0  0  0  0]\n",
      " [ 0  0  0 25  0  0  0  0]\n",
      " [ 0  0  0  0 18  0  0  0]\n",
      " [ 0  0  0  0  0 23  0  0]\n",
      " [ 0  0  0  0  0  0 19  0]\n",
      " [ 0  0  0  0  0  0  0 17]]\n",
      "              precision    recall  f1-score   support\n",
      "\n",
      "           0       1.00      1.00      1.00         8\n",
      "           1       1.00      1.00      1.00        17\n",
      "           2       1.00      1.00      1.00        11\n",
      "           3       1.00      1.00      1.00        25\n",
      "           4       1.00      1.00      1.00        18\n",
      "           5       1.00      1.00      1.00        23\n",
      "           6       1.00      1.00      1.00        19\n",
      "           7       1.00      1.00      1.00        17\n",
      "\n",
      "    accuracy                           1.00       138\n",
      "   macro avg       1.00      1.00      1.00       138\n",
      "weighted avg       1.00      1.00      1.00       138\n",
      "\n"
     ]
    }
   ],
   "source": [
    "print(confusion_matrix(y_test, y_pred_ada))\n",
    "print(classification_report(y_test, y_pred_ada))"
   ]
  },
  {
   "cell_type": "markdown",
   "metadata": {},
   "source": [
    "## Random Forest Classifier"
   ]
  },
  {
   "cell_type": "code",
   "execution_count": 18,
   "metadata": {},
   "outputs": [],
   "source": [
    "from sklearn.ensemble import RandomForestClassifier\n",
    "rf = RandomForestClassifier(n_estimators=num_classifiers,\n",
    "criterion='gini', max_depth=5)\n",
    "rf.fit(x_train, y_train)\n",
    "y_pred_rf = rf.predict(x_test)"
   ]
  },
  {
   "cell_type": "code",
   "execution_count": 19,
   "metadata": {},
   "outputs": [
    {
     "name": "stdout",
     "output_type": "stream",
     "text": [
      "[[ 8  0  0  0  0  0  0  0]\n",
      " [ 0 17  0  0  0  0  0  0]\n",
      " [ 0  0 11  0  0  0  0  0]\n",
      " [ 0  0  0 25  0  0  0  0]\n",
      " [ 0  0  0  0 18  0  0  0]\n",
      " [ 0  0  0  0  0 23  0  0]\n",
      " [ 0  0  0  0  0  0 19  0]\n",
      " [ 0  0  0  0  0  0  0 17]]\n",
      "              precision    recall  f1-score   support\n",
      "\n",
      "           0       1.00      1.00      1.00         8\n",
      "           1       1.00      1.00      1.00        17\n",
      "           2       1.00      1.00      1.00        11\n",
      "           3       1.00      1.00      1.00        25\n",
      "           4       1.00      1.00      1.00        18\n",
      "           5       1.00      1.00      1.00        23\n",
      "           6       1.00      1.00      1.00        19\n",
      "           7       1.00      1.00      1.00        17\n",
      "\n",
      "    accuracy                           1.00       138\n",
      "   macro avg       1.00      1.00      1.00       138\n",
      "weighted avg       1.00      1.00      1.00       138\n",
      "\n"
     ]
    }
   ],
   "source": [
    "print(confusion_matrix(y_test, y_pred_rf))\n",
    "print(classification_report(y_test, y_pred_rf))"
   ]
  },
  {
   "cell_type": "markdown",
   "metadata": {},
   "source": [
    "## Feature Importance"
   ]
  },
  {
   "cell_type": "code",
   "execution_count": 20,
   "metadata": {},
   "outputs": [],
   "source": [
    "from sklearn.tree import export_graphviz\n",
    "import pydot\n",
    "tree = rf.estimators_[9]\n",
    "export_graphviz(tree, out_file = 'tree.dot',feature_names = x.columns,rounded = True)\n",
    "# Use dot file to create a graph\n",
    "(graph,) = pydot.graph_from_dot_file('tree.dot')\n",
    "# Write graph to a png file\n",
    "graph.write_png('tree.png')"
   ]
  },
  {
   "cell_type": "code",
   "execution_count": 21,
   "metadata": {},
   "outputs": [
    {
     "data": {
      "image/png": "[encoded data removed]",
      "text/plain": [
       "<Figure size 720x1080 with 1 Axes>"
      ]
     },
     "metadata": {
      "needs_background": "light"
     },
     "output_type": "display_data"
    }
   ],
   "source": [
    "%matplotlib inline\n",
    "from matplotlib import pyplot as plt\n",
    "n_features = x.columns.size\n",
    "feat_index = np.arange(n_features)\n",
    "plt.figure(figsize=(10,15))\n",
    "plt.barh(feat_index, rf.feature_importances_)\n",
    "plt.yticks(feat_index, x)\n",
    "plt.show()"
   ]
  },
  {
   "cell_type": "markdown",
   "metadata": {},
   "source": [
    "## Staking Classifier"
   ]
  },
  {
   "cell_type": "code",
   "execution_count": 24,
   "metadata": {},
   "outputs": [],
   "source": [
    "from sklearn.svm import SVC\n",
    "from mlxtend.classifier import StackingClassifier\n",
    "clf1 = DecisionTreeClassifier(criterion='gini', max_depth=5)\n",
    "clf2 = GaussianNB()\n",
    "clf3 = KNeighborsClassifier(n_neighbors=7)\n",
    "meta_clf = SVC(gamma='scale')\n",
    "clf_stack = StackingClassifier(classifiers=[clf1, clf2, clf3],meta_classifier=meta_clf, store_train_meta_features=True)\n",
    "clf_stack.fit(x_train, y_train)\n",
    "y_pred_stack = clf_stack.predict(x_test)"
   ]
  },
  {
   "cell_type": "code",
   "execution_count": 25,
   "metadata": {},
   "outputs": [
    {
     "name": "stdout",
     "output_type": "stream",
     "text": [
      "[[ 7  1  0  0  0  0  0  0]\n",
      " [ 0 17  0  0  0  0  0  0]\n",
      " [ 0  0 11  0  0  0  0  0]\n",
      " [ 0  0  0 25  0  0  0  0]\n",
      " [ 0  0  0  0 18  0  0  0]\n",
      " [ 0  0  0  0  2 21  0  0]\n",
      " [ 0  0  0  0  0  2 17  0]\n",
      " [ 0  0  0  0  0  0  1 16]]\n",
      "              precision    recall  f1-score   support\n",
      "\n",
      "           0       1.00      0.88      0.93         8\n",
      "           1       0.94      1.00      0.97        17\n",
      "           2       1.00      1.00      1.00        11\n",
      "           3       1.00      1.00      1.00        25\n",
      "           4       0.90      1.00      0.95        18\n",
      "           5       0.91      0.91      0.91        23\n",
      "           6       0.94      0.89      0.92        19\n",
      "           7       1.00      0.94      0.97        17\n",
      "\n",
      "    accuracy                           0.96       138\n",
      "   macro avg       0.96      0.95      0.96       138\n",
      "weighted avg       0.96      0.96      0.96       138\n",
      "\n"
     ]
    }
   ],
   "source": [
    "print(confusion_matrix(y_test, y_pred_stack))\n",
    "print(classification_report(y_test, y_pred_stack))"
   ]
  },
  {
   "cell_type": "markdown",
   "metadata": {},
   "source": [
    "## Evaluation\n",
    "\n",
    "#Voting Classifier 1.0\n",
    "#Bagging Classifier 1.0\n",
    "#Random Forest Classifier 1.0\n",
    "#AdaBoost Classifier 1.0\n",
    "#Staking Classifier 0.96\n",
    "\n",
    "Almost all classifiers are at accuracy at 1.0, except staking classifier at 0.96. "
   ]
  }
 ],
 "metadata": {
  "kernelspec": {
   "display_name": "Python 3",
   "language": "python",
   "name": "python3"
  },
  "language_info": {
   "codemirror_mode": {
    "name": "ipython",
    "version": 3
   },
   "file_extension": ".py",
   "mimetype": "text/x-python",
   "name": "python",
   "nbconvert_exporter": "python",
   "pygments_lexer": "ipython3",
   "version": "3.7.3"
  }
 },
 "nbformat": 4,
 "nbformat_minor": 2
}
